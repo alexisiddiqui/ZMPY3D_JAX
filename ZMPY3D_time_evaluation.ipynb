{
 "cells": [
  {
   "cell_type": "code",
   "execution_count": null,
   "metadata": {
    "scrolled": true
   },
   "outputs": [],
   "source": [
    "# This notebook evaluates the testing times discussed in the paper, \n",
    "#\n",
    "#     \"ZMPY3D: Accelerating Protein Structure Volume Analysis through Vectorized 3D Zernike Moments and Python-based GPU Integration.\"\n",
    "#\n",
    "# The computation times for ZMPY3D packages in both CPU and GPU environments have been assessed.\n",
    "# It requires the simultaneous installation of ZMPY3D_TF, ZMPY3D_CP, and ZMPY3D versions.\n",
    "# Testing order: ZMPY3D_TF, followed by ZMPY3D_CP, and finally ZMPY3D.\"\n",
    "#\n",
    "# This notebook primarily consists of the following steps: \n",
    "#     1. Set the MaxOrder number to 20\n",
    "#     2. Load precalculated cache\n",
    "#     3. Create a callable function (including generating Zernike moments and normalization)\n",
    "#     4. Generate a 100x100x100 voxel in CPU/GPU memory\n",
    "#     5. Use the callable function 10,000 times to measure time.\n",
    "#\n",
    "# Keep in mind that GPUs have a warming-up time. It is recommended to run the cell multiple times  for a fair performance.\n",
    "\n"
   ]
  },
  {
   "cell_type": "code",
   "execution_count": null,
   "metadata": {
    "scrolled": true
   },
   "outputs": [],
   "source": [
    "# # Install all ZMPY3D versions for NumPy, CuPy, and TensorFlow.\n",
    "# ! pip install -i https://test.pypi.org/simple/ ZMPY3D\n",
    "# ! pip install -i https://test.pypi.org/simple/ ZMPY3D-CP\n",
    "# ! pip install -i https://test.pypi.org/simple/ ZMPY3D-TF\n",
    "\n",
    "# print(f\"It is recommended to restart the Python kernel for the IPython notebook.\")"
   ]
  },
  {
   "cell_type": "code",
   "execution_count": null,
   "metadata": {
    "colab": {
     "base_uri": "https://localhost:8080/"
    },
    "executionInfo": {
     "elapsed": 26905,
     "status": "ok",
     "timestamp": 1711572606231,
     "user": {
      "displayName": "Sean Lai",
      "userId": "14374858823610391148"
     },
     "user_tz": 420
    },
    "id": "Fl7FrGrptnLd",
    "outputId": "344edd85-0107-4785-de89-c640fa06184b",
    "scrolled": true
   },
   "outputs": [],
   "source": [
    "import ZMPY3D_TF as z\n",
    "import tensorflow as tf\n",
    "import pickle\n",
    "\n",
    "MaxOrder = 20\n",
    "Param=z.get_global_parameter()\n",
    "\n",
    "# Find the cache_data directory based on the site package location of ZMPY3D.\n",
    "LogCacheFilePath=z.__file__.replace('__init__.py', 'cache_data') + '/LogG_CLMCache_MaxOrder{:02d}.pkl'.format(MaxOrder)\n",
    "\n",
    "with open(LogCacheFilePath, 'rb') as file:\n",
    "    CachePKL = pickle.load(file)\n",
    "\n",
    "# convert to tensorflow objects\n",
    "GCache_pqr_linear= tf.convert_to_tensor(CachePKL['GCache_pqr_linear'])\n",
    "GCache_complex= tf.convert_to_tensor(CachePKL['GCache_complex'])\n",
    "GCache_complex_index= tf.convert_to_tensor(CachePKL['GCache_complex_index'])\n",
    "CLMCache3D= tf.convert_to_tensor(CachePKL['CLMCache3D'],dtype=tf.complex128)\n",
    "CLMCache= tf.convert_to_tensor(CachePKL['CLMCache'], dtype=tf.float64)\n",
    "\n",
    "print(f\"Now using the MaxOrder of {MaxOrder}.\")\n",
    "print(f\"Pre-calculated parameters for Tensorflow have been loaded successfully.\")"
   ]
  },
  {
   "cell_type": "code",
   "execution_count": null,
   "metadata": {
    "colab": {
     "base_uri": "https://localhost:8080/"
    },
    "executionInfo": {
     "elapsed": 26905,
     "status": "ok",
     "timestamp": 1711572606231,
     "user": {
      "displayName": "Sean Lai",
      "userId": "14374858823610391148"
     },
     "user_tz": 420
    },
    "id": "Fl7FrGrptnLd",
    "outputId": "344edd85-0107-4785-de89-c640fa06184b",
    "scrolled": true
   },
   "outputs": [],
   "source": [
    "@tf.function\n",
    "def OneTimeConversion_TF(Voxel3D,MaxOrder):\n",
    "\n",
    "    Dimension_BBox_scaled=tf.shape(Voxel3D)\n",
    "    \n",
    "    MaxOrder=tf.convert_to_tensor(MaxOrder,dtype=tf.int64)\n",
    "    \n",
    "    X_sample = tf.range(Dimension_BBox_scaled[0] + 1,dtype=tf.float64)\n",
    "    Y_sample = tf.range(Dimension_BBox_scaled[1] + 1,dtype=tf.float64)\n",
    "    Z_sample = tf.range(Dimension_BBox_scaled[2] + 1,dtype=tf.float64)\n",
    "    \n",
    "    [VolumeMass,Center,_]=z.calculate_bbox_moment(Voxel3D,1,X_sample,Y_sample,Z_sample)\n",
    "    \n",
    "    [AverageVoxelDist2Center,_]=z.calculate_molecular_radius(Voxel3D,Center,VolumeMass,tf.convert_to_tensor(Param['default_radius_multiplier'], dtype=tf.float64))\n",
    "    \n",
    "    Sphere_X_sample, Sphere_Y_sample, Sphere_Z_sample=z.get_bbox_moment_xyz_sample(Center,AverageVoxelDist2Center,Dimension_BBox_scaled)\n",
    "    \n",
    "    _,_,SphereBBoxMoment=z.calculate_bbox_moment(Voxel3D\n",
    "                                      ,MaxOrder\n",
    "                                      ,Sphere_X_sample\n",
    "                                      ,Sphere_Y_sample\n",
    "                                      ,Sphere_Z_sample)\n",
    "    \n",
    "    ZMoment_scaled,_=z.calculate_bbox_moment_2_zm(MaxOrder\n",
    "                                       , GCache_complex\n",
    "                                       , GCache_pqr_linear\n",
    "                                       , GCache_complex_index\n",
    "                                       , CLMCache3D\n",
    "                                       , SphereBBoxMoment)\n",
    "    \n",
    "    ZM_3DZD_invariant=z.get_3dzd_121_descriptor(ZMoment_scaled)\n",
    "    \n",
    "    ZM_3DZD_invariant_121=tf.reshape(tf.boolean_mask(ZM_3DZD_invariant, ~tf.math.is_nan(ZM_3DZD_invariant)), [-1])\n",
    "    return ZM_3DZD_invariant_121\n",
    "\n",
    "\n",
    "print(f\"Merge all steps into a single callable Tensorfow function, OneTimeConversion_TF, decorated with @tf.function for optimized graph compilation.\")"
   ]
  },
  {
   "cell_type": "code",
   "execution_count": null,
   "metadata": {
    "colab": {
     "base_uri": "https://localhost:8080/"
    },
    "executionInfo": {
     "elapsed": 26905,
     "status": "ok",
     "timestamp": 1711572606231,
     "user": {
      "displayName": "Sean Lai",
      "userId": "14374858823610391148"
     },
     "user_tz": 420
    },
    "id": "Fl7FrGrptnLd",
    "outputId": "344edd85-0107-4785-de89-c640fa06184b",
    "scrolled": true
   },
   "outputs": [],
   "source": [
    "%%time\n",
    "\n",
    "Voxel3D = tf.random.uniform([100, 100, 100], dtype=tf.float64)\n",
    "print(f\"Initialize a 100x100x100 matrix with random values in GPU memory.\")\n",
    "\n",
    "Repeat=10000\n",
    "\n",
    "for _ in range(Repeat):\n",
    "    OneTimeConversion_TF(Voxel3D,MaxOrder)\n",
    "\n",
    "print(f\"Iteratively invoke the OneTimeConversion_TF function {Repeat} times using a for loop.\")\n",
    "print(f'Noted: The OneTimeConversion_TF uses eager functions to deliver immediate feedback on demonstrations to developers.')\n",
    "print(f\"Time elapsed is as follows:\")"
   ]
  },
  {
   "cell_type": "code",
   "execution_count": null,
   "metadata": {
    "colab": {
     "base_uri": "https://localhost:8080/"
    },
    "executionInfo": {
     "elapsed": 977,
     "status": "ok",
     "timestamp": 1711572616966,
     "user": {
      "displayName": "Sean Lai",
      "userId": "14374858823610391148"
     },
     "user_tz": 420
    },
    "id": "sZXn24b_OBcv",
    "outputId": "85c614fa-a7c7-46ec-fc93-eb740091c212"
   },
   "outputs": [],
   "source": [
    "import ZMPY3D_CP as z\n",
    "import cupy as cp\n",
    "import pickle\n",
    "\n",
    "MaxOrder = 20\n",
    "Param=z.get_global_parameter()\n",
    "\n",
    "# Find the cache_data directory based on the site package location of ZMPY3D.\n",
    "LogCacheFilePath=z.__file__.replace('__init__.py', 'cache_data') + '/LogG_CLMCache_MaxOrder{:02d}.pkl'.format(MaxOrder)\n",
    "\n",
    "with open(LogCacheFilePath, 'rb') as file:\n",
    "    CachePKL = pickle.load(file)\n",
    "\n",
    "# convert cache into cupy objects\n",
    "GCache_pqr_linear= cp.array(CachePKL['GCache_pqr_linear'], dtype=cp.int32)\n",
    "GCache_complex= cp.array(CachePKL['GCache_complex'],dtype=cp.complex128)\n",
    "GCache_complex_index= cp.array(CachePKL['GCache_complex_index'], dtype=cp.int32)\n",
    "CLMCache3D= cp.array(CachePKL['CLMCache3D'],dtype=cp.complex128)\n",
    "CLMCache= cp.array(CachePKL['CLMCache'], dtype=cp.float64)\n",
    "\n",
    "print(f\"Now using the MaxOrder of {MaxOrder}.\")\n",
    "print(f\"Pre-calculated parameters for CuPy have been loaded successfully.\")"
   ]
  },
  {
   "cell_type": "code",
   "execution_count": null,
   "metadata": {
    "colab": {
     "base_uri": "https://localhost:8080/"
    },
    "executionInfo": {
     "elapsed": 977,
     "status": "ok",
     "timestamp": 1711572616966,
     "user": {
      "displayName": "Sean Lai",
      "userId": "14374858823610391148"
     },
     "user_tz": 420
    },
    "id": "sZXn24b_OBcv",
    "outputId": "85c614fa-a7c7-46ec-fc93-eb740091c212"
   },
   "outputs": [],
   "source": [
    "def OneTimeConversion_CP(Voxel3D,MaxOrder):\n",
    "    Dimension_BBox_scaled=cp.shape(Voxel3D) # cp.shape does not create a matrix on the GPU.\n",
    "    Dimension_BBox_scaled=cp.array(Dimension_BBox_scaled,dtype=cp.int32)\n",
    "    \n",
    "    MaxOrder=cp.array(MaxOrder,dtype=cp.int64)\n",
    "    \n",
    "    X_sample = cp.arange(Dimension_BBox_scaled[0] + 1, dtype=cp.float64)\n",
    "    Y_sample = cp.arange(Dimension_BBox_scaled[1] + 1, dtype=cp.float64)\n",
    "    Z_sample = cp.arange(Dimension_BBox_scaled[2] + 1, dtype=cp.float64)\n",
    "    \n",
    "    [VolumeMass,Center,_]=z.calculate_bbox_moment(Voxel3D,1,X_sample,Y_sample,Z_sample)\n",
    "    \n",
    "    [AverageVoxelDist2Center,_]=z.calculate_molecular_radius(Voxel3D,Center,VolumeMass,cp.array(Param['default_radius_multiplier'], dtype=cp.float64))\n",
    "    \n",
    "    Sphere_X_sample, Sphere_Y_sample, Sphere_Z_sample=z.get_bbox_moment_xyz_sample(Center,AverageVoxelDist2Center,Dimension_BBox_scaled)\n",
    "    \n",
    "    _,_,SphereBBoxMoment=z.calculate_bbox_moment(Voxel3D\n",
    "                                      ,MaxOrder\n",
    "                                      ,Sphere_X_sample\n",
    "                                      ,Sphere_Y_sample\n",
    "                                      ,Sphere_Z_sample)\n",
    "    \n",
    "    \n",
    "    ZMoment_scaled,_=z.calculate_bbox_moment_2_zm(MaxOrder\n",
    "                                       , GCache_complex\n",
    "                                       , GCache_pqr_linear\n",
    "                                       , GCache_complex_index\n",
    "                                       , CLMCache3D\n",
    "                                       , SphereBBoxMoment)\n",
    "    \n",
    "    ZM_3DZD_invariant=z.get_3dzd_121_descriptor(ZMoment_scaled)\n",
    "    \n",
    "    ZM_3DZD_invariant_121=ZM_3DZD_invariant[~cp.isnan(ZM_3DZD_invariant)]\n",
    "    return ZM_3DZD_invariant_121\n",
    "\n",
    "\n",
    "\n",
    "print(f\"Merge all steps into a single callable CuPy function, OneTimeConversion_CP.\")\n"
   ]
  },
  {
   "cell_type": "code",
   "execution_count": null,
   "metadata": {
    "colab": {
     "base_uri": "https://localhost:8080/"
    },
    "executionInfo": {
     "elapsed": 977,
     "status": "ok",
     "timestamp": 1711572616966,
     "user": {
      "displayName": "Sean Lai",
      "userId": "14374858823610391148"
     },
     "user_tz": 420
    },
    "id": "sZXn24b_OBcv",
    "outputId": "85c614fa-a7c7-46ec-fc93-eb740091c212"
   },
   "outputs": [],
   "source": [
    "%%time\n",
    "\n",
    "Voxel3D=matrix = cp.random.rand(100, 100, 100)\n",
    "print(f\"Initialize a 100x100x100 matrix with random values in GPU memory.\")\n",
    "\n",
    "Repeat=10000\n",
    "for _ in range(Repeat):\n",
    "    OneTimeConversion_CP(Voxel3D,MaxOrder)\n",
    "\n",
    "print(f\"Iteratively invoke the OneTimeConversion_CP function {Repeat} times using a for loop.\")\n",
    "print(f\"Time elapsed is as follows:\")"
   ]
  },
  {
   "cell_type": "code",
   "execution_count": null,
   "metadata": {},
   "outputs": [],
   "source": [
    "import ZMPY3D as z\n",
    "import numpy as np\n",
    "import pickle\n",
    "import os\n",
    "\n",
    "MaxOrder = 20\n",
    "\n",
    "Param=z.get_global_parameter()\n",
    "\n",
    "# Find the cache_data directory based on the site package location of ZMPY3D.\n",
    "LogCacheFilePath=z.__file__.replace('__init__.py', 'cache_data') + '/LogG_CLMCache_MaxOrder{:02d}.pkl'.format(MaxOrder)\n",
    "\n",
    "with open(LogCacheFilePath, 'rb') as file:\n",
    "    CachePKL = pickle.load(file)\n",
    "\n",
    "GCache_pqr_linear=CachePKL['GCache_pqr_linear']\n",
    "GCache_complex=CachePKL['GCache_complex']\n",
    "GCache_complex_index=CachePKL['GCache_complex_index']\n",
    "CLMCache3D=CachePKL['CLMCache3D']\n",
    "CLMCache=CachePKL['CLMCache']\n",
    "\n",
    "print(f\"Now using the MaxOrder of {MaxOrder}.\")\n",
    "print(f\"Pre-calculated parameters for NumPy have been loaded successfully.\")"
   ]
  },
  {
   "cell_type": "code",
   "execution_count": null,
   "metadata": {},
   "outputs": [],
   "source": [
    "def OneTimeConversion(Voxel3D,MaxOrder):\n",
    "    Dimension_BBox_scaled=Voxel3D.shape\n",
    "    \n",
    "    XYZ_SampleStruct = {\n",
    "        'X_sample': np.arange(Dimension_BBox_scaled[0] + 1),\n",
    "        'Y_sample': np.arange(Dimension_BBox_scaled[1] + 1),\n",
    "        'Z_sample': np.arange(Dimension_BBox_scaled[2] + 1)\n",
    "    }\n",
    "    \n",
    "    [VolumeMass,Center,_]=z.calculate_bbox_moment(Voxel3D,1,XYZ_SampleStruct)\n",
    "    \n",
    "    [AverageVoxelDist2Center,_]=z.calculate_molecular_radius(Voxel3D,Center,VolumeMass,Param['default_radius_multiplier'])\n",
    "        \n",
    "    SphereXYZ_SampleStruct=z.get_bbox_moment_xyz_sample(Center,AverageVoxelDist2Center,Dimension_BBox_scaled)\n",
    "    \n",
    "    _,_,SphereBBoxMoment=z.calculate_bbox_moment(Voxel3D,MaxOrder,SphereXYZ_SampleStruct)\n",
    "    \n",
    "    [ZMoment_scaled, _]=z.calculate_bbox_moment_2_zm(MaxOrder\n",
    "                                                  ,GCache_complex\n",
    "                                                  ,GCache_pqr_linear\n",
    "                                                  ,GCache_complex_index\n",
    "                                                  ,CLMCache3D\n",
    "                                                  ,SphereBBoxMoment)\n",
    "    \n",
    "    ZM_3DZD_invariant=z.get_3dzd_121_descriptor(ZMoment_scaled)\n",
    "    \n",
    "    ZM_3DZD_invariant_121=ZM_3DZD_invariant[~np.isnan(ZM_3DZD_invariant)]\n",
    "    return ZM_3DZD_invariant_121\n",
    "\n",
    "\n",
    "print(f\"Merge all steps into a single callable NumPy function, OneTimeConversion.\")\n"
   ]
  },
  {
   "cell_type": "code",
   "execution_count": null,
   "metadata": {},
   "outputs": [],
   "source": [
    "%%time\n",
    "\n",
    "Voxel3D=matrix = np.random.rand(100, 100, 100)\n",
    "print(f\"Initialize a 100x100x100 matrix with random values in CPU memory.\")\n",
    "Repeat=10000\n",
    "\n",
    "for _ in range(Repeat):\n",
    "    OneTimeConversion(Voxel3D,MaxOrder)\n",
    "\n",
    "print(f\"Iteratively invoke the OneTimeConversion function {Repeat} times using a for loop.\")\n",
    "print(f\"Noted: Most NumPy runtimes are configured to use multithreading by default.\")\n",
    "print(f\"Time elapsed is as follows:\")"
   ]
  }
 ],
 "metadata": {
  "accelerator": "GPU",
  "colab": {
   "authorship_tag": "ABX9TyMENoVGMAAZ51Qh0Uw6LnV6",
   "collapsed_sections": [
    "3Hn12aJzpKR_",
    "DyMa0OG-pe8T",
    "9DbKZZY_pxLk",
    "QZKvszjqp58S",
    "Qp5hA6bBqHqO",
    "UFVne5plq0jK",
    "fVasOaTdrEy2"
   ],
   "gpuType": "T4",
   "provenance": [
    {
     "file_id": "1KRMJipBkbYroHJ6SeXHaPaX5-4WBBy6Z",
     "timestamp": 1711574522738
    },
    {
     "file_id": "1Gy7cTTaL2NPdz7T6Tk4jZDSVM5TwT_Bf",
     "timestamp": 1711323812481
    }
   ]
  },
  "kernelspec": {
   "display_name": "Python 3 (ipykernel)",
   "language": "python",
   "name": "python3"
  },
  "language_info": {
   "codemirror_mode": {
    "name": "ipython",
    "version": 3
   },
   "file_extension": ".py",
   "mimetype": "text/x-python",
   "name": "python",
   "nbconvert_exporter": "python",
   "pygments_lexer": "ipython3",
   "version": "3.9.16"
  }
 },
 "nbformat": 4,
 "nbformat_minor": 4
}
