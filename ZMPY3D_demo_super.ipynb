{
 "cells": [
  {
   "cell_type": "code",
   "execution_count": null,
   "metadata": {},
   "outputs": [],
   "source": [
    "# This notebook demonstrates how to calculate the transofmration matrix by 3D Zernike moments using ZMPY3D with NumPy.\n",
    "#\n",
    "# This notebook primarily consists of the following steps: \n",
    "#     1. Install ZMPY3D and py3Dmol (visualisation).\n",
    "#     2. Download example PDB data with coordinates.\n",
    "#     3. Define necessary parameters.\n",
    "#     4. Load precalculated cache.\n",
    "#     5. Convert coordinate data into a voxel.\n",
    "#     6. Create a callable function for generating Zernike moments and normalization.\n",
    "#     7. Obtain the transform matrix.\n",
    "#     8. A command line interface (CLI) example"
   ]
  },
  {
   "cell_type": "code",
   "execution_count": null,
   "metadata": {},
   "outputs": [],
   "source": [
    "# # Install ZMPY3D versions for NumPy.\n",
    "# # Install py3Dmol for visualisation.\n",
    "\n",
    "! pip install ZMPY3D\n",
    "! pip install py3Dmol\n",
    "\n",
    "\n",
    "# print(f\"It is recommended to restart the Python kernel for the IPython notebook.\")"
   ]
  },
  {
   "cell_type": "code",
   "execution_count": null,
   "metadata": {},
   "outputs": [],
   "source": [
    "# # Download example data from GitHub using curl\n",
    "! curl -OJL https://github.com/tawssie/ZMPY3D/raw/main/6NT5.pdb\n",
    "! curl -OJL https://github.com/tawssie/ZMPY3D/raw/main/6NT6.pdb\n"
   ]
  },
  {
   "cell_type": "code",
   "execution_count": null,
   "metadata": {},
   "outputs": [],
   "source": [
    "import ZMPY3D as z\n",
    "import numpy as np\n",
    "\n",
    "\n",
    "Param=z.get_global_parameter()\n",
    "ResidueBox=z.get_residue_gaussian_density_cache(Param)\n",
    "GridWidth = 1.0\n",
    "\n",
    "# Convert structure data into coordinates\n",
    "[XYZ_A,AA_NameList_A]=z.get_pdb_xyz_ca('./6NT5.pdb')\n",
    "# Convert coordinates into voxels using precalculated Gaussian densities\n",
    "[Voxel3D_A,CornerA]=z.fill_voxel_by_weight_density(XYZ_A,AA_NameList_A,Param['residue_weight_map'],GridWidth,ResidueBox[GridWidth])\n",
    "\n",
    "print(f\"Structure A (6NT5) has been converted into a gridded voxel with the shape {Voxel3D_A.shape}\")\n",
    "\n",
    "[XYZ_B,AA_NameList_B]=z.get_pdb_xyz_ca('./6NT6.pdb')\n",
    "[Voxel3D_B,CornerB]=z.fill_voxel_by_weight_density(XYZ_B,AA_NameList_B,Param['residue_weight_map'],GridWidth,ResidueBox[GridWidth])\n",
    "\n",
    "print(f\"Structure B (6NT6) has been converted into a gridded voxel with the shape {Voxel3D_B.shape}\")\n"
   ]
  },
  {
   "cell_type": "code",
   "execution_count": null,
   "metadata": {},
   "outputs": [],
   "source": [
    "import pickle\n",
    "\n",
    "MaxOrder=6\n",
    "\n",
    "# Find the cache_data directory based on the site package location of ZMPY3D.\n",
    "BinomialCacheFilePath=z.__file__.replace('__init__.py', 'cache_data') + '/BinomialCache.pkl'\n",
    "with open(BinomialCacheFilePath, 'rb') as file:\n",
    "    BinomialCachePKL = pickle.load(file)\n",
    "\n",
    "LogCacheFilePath=z.__file__.replace('__init__.py', 'cache_data') + '/LogG_CLMCache_MaxOrder{:02d}.pkl'.format(MaxOrder)\n",
    "\n",
    "with open(LogCacheFilePath, 'rb') as file:\n",
    "    CachePKL = pickle.load(file)\n",
    "\n",
    "BinomialCache=BinomialCachePKL['BinomialCache']\n",
    "\n",
    "GCache_pqr_linear=CachePKL['GCache_pqr_linear']\n",
    "GCache_complex=CachePKL['GCache_complex']\n",
    "GCache_complex_index=CachePKL['GCache_complex_index']\n",
    "CLMCache3D=CachePKL['CLMCache3D']\n",
    "CLMCache=CachePKL['CLMCache']\n",
    "RotationIndex=CachePKL['RotationIndex']\n",
    "\n",
    "s_id=np.squeeze(RotationIndex['s_id'][0,0])-1\n",
    "n   =np.squeeze(RotationIndex['n'][0,0])\n",
    "l   =np.squeeze(RotationIndex['l'][0,0])\n",
    "m   =np.squeeze(RotationIndex['m'][0,0])\n",
    "mu  =np.squeeze(RotationIndex['mu'][0,0])\n",
    "k   =np.squeeze(RotationIndex['k'][0,0])\n",
    "IsNLM_Value=np.squeeze(RotationIndex['IsNLM_Value'][0,0])-1  \n",
    "\n"
   ]
  },
  {
   "cell_type": "code",
   "execution_count": null,
   "metadata": {},
   "outputs": [],
   "source": [
    "\n",
    "def OneTimeConversion(Voxel3D,Corner,GridWidth,BinomialCache, CLMCache, CLMCache3D, GCache_complex, GCache_complex_index, GCache_pqr_linear, MaxOrder, Param, ResidueBox, RotationIndex):\n",
    "    \n",
    "    Dimension_BBox_scaled=Voxel3D.shape;\n",
    "\n",
    "    XYZ_SampleStruct = {\n",
    "        'X_sample': np.arange(Dimension_BBox_scaled[0] + 1),\n",
    "        'Y_sample': np.arange(Dimension_BBox_scaled[1] + 1),\n",
    "        'Z_sample': np.arange(Dimension_BBox_scaled[2] + 1)\n",
    "    }\n",
    "\n",
    "    # Calculate the volume mass and the center of mass\n",
    "    [VolumeMass,Center,_]=z.calculate_bbox_moment(Voxel3D,1,XYZ_SampleStruct)\n",
    "\n",
    "    [AverageVoxelDist2Center,MaxVoxelDist2Center]=z.calculate_molecular_radius(Voxel3D,Center,VolumeMass,Param['default_radius_multiplier'])\n",
    "\n",
    "    Center_scaled=Center*GridWidth+Corner\n",
    "\n",
    "    ##################################################################################\n",
    "    # You may add any preprocessing on the voxel before applying the Zernike moment. #\n",
    "    ##################################################################################\n",
    "\n",
    "    # Calculate the weights for sphere sampling    \n",
    "    SphereXYZ_SampleStruct=z.get_bbox_moment_xyz_sample(Center,AverageVoxelDist2Center,Dimension_BBox_scaled)\n",
    "\n",
    "    # Apply weights to the geometric moments\n",
    "    _,_,SphereBBoxMoment=z.calculate_bbox_moment(Voxel3D,MaxOrder,SphereXYZ_SampleStruct)\n",
    "\n",
    "    # Convert to unscaled 3D Zernike moments\n",
    "    [_, ZMoment_raw]=z.calculate_bbox_moment_2_zm(MaxOrder, GCache_complex, GCache_pqr_linear, GCache_complex_index, CLMCache3D, SphereBBoxMoment)\n",
    "\n",
    "    # Calculate alternative 3D Zernike moments for specific normalisation orders 2, 3, 4, 5 and 6\n",
    "    ABList_2=z.calculate_ab_rotation_all(ZMoment_raw, 2)\n",
    "    ABList_3=z.calculate_ab_rotation_all(ZMoment_raw, 3)\n",
    "    ABList_4=z.calculate_ab_rotation_all(ZMoment_raw, 4)\n",
    "    ABList_5=z.calculate_ab_rotation_all(ZMoment_raw, 5)\n",
    "    ABList_6=z.calculate_ab_rotation_all(ZMoment_raw, 6)\n",
    "\n",
    "    ABList_all=np.vstack(ABList_2+ABList_3+ABList_4+ABList_5+ABList_6)\n",
    "\n",
    "    ZMList_all=z.calculate_zm_by_ab_rotation(ZMoment_raw, BinomialCache, ABList_all, MaxOrder, CLMCache,s_id,n,l,m,mu,k,IsNLM_Value)\n",
    "    \n",
    "    ZMList_all=np.stack(ZMList_all,axis=3)\n",
    "\n",
    "    ZMList_all=np.transpose(ZMList_all,(2,1,0,3)) \n",
    "    ZMList_all=ZMList_all[~np.isnan(ZMList_all)]\n",
    "    \n",
    "    # Based on ABList_all, it is known in advance that Order 6 will definitely have 96 pairs of AB, which means 96 vectors.\n",
    "    ZMList_all=np.reshape(ZMList_all,(np.int64(ZMList_all.size/96),96)) \n",
    "\n",
    "    return Center_scaled, ABList_all,ZMList_all\n",
    "\n",
    "\n",
    "print(f\"Merge all steps into a single callable function, OneTimeConversion, generating alternative 3D Zernike moments for rotational variations\")\n",
    " "
   ]
  },
  {
   "cell_type": "code",
   "execution_count": null,
   "metadata": {},
   "outputs": [],
   "source": [
    "%%time\n",
    "# Compute all possible rotations\n",
    "Center_scaled_A,ABList_A,ZMList_A =OneTimeConversion(Voxel3D_A,CornerA,1.00,BinomialCache, CLMCache, CLMCache3D, GCache_complex, GCache_complex_index, GCache_pqr_linear, MaxOrder, Param, ResidueBox, RotationIndex)\n",
    "Center_scaled_B,ABList_B,ZMList_B =OneTimeConversion(Voxel3D_B,CornerB,1.00,BinomialCache, CLMCache, CLMCache3D, GCache_complex, GCache_complex_index, GCache_pqr_linear, MaxOrder, Param, ResidueBox, RotationIndex)\n",
    "\n",
    "# Compare all Zernike moments and select the maximum value using a dot product calculation\n",
    "M = np.abs(ZMList_A.conj().T @ ZMList_B) # square matrix A^T*B \n",
    "MaxValueIndex = np.where(M == np.max(M)) # MaxValueIndex is a tuple that contains an nd array.\n",
    "\n",
    "i, j = MaxValueIndex[0][0], MaxValueIndex[1][0]\n",
    "\n",
    "# Compute the transformation matrix for protein structure A\n",
    "RotM_A=z.get_transform_matrix_from_ab_list(ABList_A[i,0],ABList_A[i,1],Center_scaled_A)\n",
    "RotM_B=z.get_transform_matrix_from_ab_list(ABList_B[j,0],ABList_B[j,1],Center_scaled_B)\n",
    "TargetRotM = np.linalg.solve(RotM_B, RotM_A)\n",
    "\n",
    "\n",
    "print(f\"Here is the transformation matrix and computation time provided by ZMPY3D for protein structure A.\")\n",
    "print(TargetRotM)\n"
   ]
  },
  {
   "cell_type": "code",
   "execution_count": null,
   "metadata": {
    "scrolled": true
   },
   "outputs": [],
   "source": [
    "\n",
    "# \"SetPDB_XYZ_RotM is not a standard function; it merely applies a matrix to atom coordinates.\n",
    "# It is recommended to use BioPython for this purpose.\"\n",
    "z.set_pdb_xyz_rot('./6NT5.pdb',TargetRotM,'6NT5_trans.pdb')\n",
    "\n",
    "print(f\"Apply the transformation matrix to all coordinates of protein structure A (6NT5.pdb) and save the modified structure as 6NT5_trans.pdb.\")"
   ]
  },
  {
   "cell_type": "code",
   "execution_count": null,
   "metadata": {
    "scrolled": true
   },
   "outputs": [],
   "source": [
    "import py3Dmol\n",
    "\n",
    "view = py3Dmol.view(width=400, height=400)\n",
    "\n",
    "def add_model_to_viewer(file_path, model_style):\n",
    "    with open(file_path, 'r') as file:\n",
    "        pdb_data = file.read()\n",
    "    view.addModel(pdb_data, 'pdb')\n",
    "    view.setStyle({'model': -1}, model_style)\n",
    "\n",
    "add_model_to_viewer('6NT5.pdb', {'cartoon': {'color': 'spectrum', 'opacity': 0.6}})\n",
    "add_model_to_viewer('6NT6.pdb', {'cartoon': {'color': 'gray', 'opacity': 0.8}})\n",
    "\n",
    "view.zoomTo()\n",
    "\n",
    "print(\"\")\n",
    "print(\"Colored 6NT5 (structure A) and gray 6NT6 (structure B) before the superposition.\")\n",
    "view.show()\n"
   ]
  },
  {
   "cell_type": "code",
   "execution_count": null,
   "metadata": {
    "scrolled": true
   },
   "outputs": [],
   "source": [
    "import py3Dmol\n",
    "\n",
    "view = py3Dmol.view(width=400, height=400)\n",
    "\n",
    "def add_model_to_viewer(file_path, model_style):\n",
    "    with open(file_path, 'r') as file:\n",
    "        pdb_data = file.read()\n",
    "    view.addModel(pdb_data, 'pdb')\n",
    "    view.setStyle({'model': -1}, model_style)\n",
    "\n",
    "add_model_to_viewer('6NT5_trans.pdb', {'cartoon': {'color': 'spectrum', 'opacity': 0.6}})\n",
    "add_model_to_viewer('6NT6.pdb', {'cartoon': {'color': 'gray', 'opacity': 0.8}})\n",
    "\n",
    "view.zoomTo()\n",
    "\n",
    "print(\"\")\n",
    "print(\"Colored 6NT5_trans (transformed structure A) and gray 6NT6 (structure B) after the superposition.\")\n",
    "view.show()"
   ]
  },
  {
   "cell_type": "code",
   "execution_count": null,
   "metadata": {
    "scrolled": true
   },
   "outputs": [],
   "source": [
    "\n",
    "# Alternatively, use a system call to compute results via CLI\n",
    "# ./ZMPY3D_CLI_SuperA2B PDB_A PDB_B\n",
    "! ZMPY3D_CLI_SuperA2B \"./6NT5.pdb\" \"./6NT6.pdb\"\n"
   ]
  }
 ],
 "metadata": {
  "accelerator": "GPU",
  "colab": {
   "authorship_tag": "ABX9TyMENoVGMAAZ51Qh0Uw6LnV6",
   "collapsed_sections": [
    "3Hn12aJzpKR_",
    "DyMa0OG-pe8T",
    "9DbKZZY_pxLk",
    "QZKvszjqp58S",
    "Qp5hA6bBqHqO",
    "UFVne5plq0jK",
    "fVasOaTdrEy2"
   ],
   "gpuType": "T4",
   "provenance": [
    {
     "file_id": "1KRMJipBkbYroHJ6SeXHaPaX5-4WBBy6Z",
     "timestamp": 1711574522738
    },
    {
     "file_id": "1Gy7cTTaL2NPdz7T6Tk4jZDSVM5TwT_Bf",
     "timestamp": 1711323812481
    }
   ]
  },
  "kernelspec": {
   "display_name": "ZMPY3D_JAX",
   "language": "python",
   "name": "python3"
  },
  "language_info": {
   "codemirror_mode": {
    "name": "ipython",
    "version": 3
   },
   "file_extension": ".py",
   "mimetype": "text/x-python",
   "name": "python",
   "nbconvert_exporter": "python",
   "pygments_lexer": "ipython3",
   "version": "3.13.1"
  }
 },
 "nbformat": 4,
 "nbformat_minor": 4
}
