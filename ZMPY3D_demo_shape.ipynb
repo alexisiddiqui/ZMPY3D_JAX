{
 "cells": [
  {
   "cell_type": "code",
   "execution_count": null,
   "metadata": {},
   "outputs": [],
   "source": [
    "# This notebook demonstrates how to calculate the shape score to classify the protein folds ZMPY3D with CuPy.\n",
    "#\n",
    "# The original method involved (https://doi.org/10.1371/journal.pcbi.1007970)\n",
    "#     1) a trimming procedure to preprocess voxels by removing those far from the center and\n",
    "#     2) a dynamic grid width for individual structures.\n",
    "#\n",
    "# These non-essential preprocessing techniques can be improved and are unrelated to this application note's \n",
    "# focus on high-performance GPU-based 3D Zernike moments.\n",
    "#\n",
    "#\n",
    "# This notebook primarily consists of the following steps: \n",
    "#     1. Install ZMPY3D_CP.\n",
    "#     2. Define necessary parameters.\n",
    "#     3. Load precalculated cache.\n",
    "#     4. Download example PDB data with coordinates.\n",
    "#     5. Convert coordinate data into a voxel.\n",
    "#     6. Create a callable function for generating Zernike moments and normalization.\n",
    "#     7. Obtain the results.\n",
    "#     8. A command line interface (CLI) example        "
   ]
  },
  {
   "cell_type": "code",
   "execution_count": null,
   "metadata": {},
   "outputs": [],
   "source": [
    "# Install ZMPY3D versions for CuPy.\n",
    "! uv pip install cupy-cuda12x\n",
    "! uv pip install ZMPY3D-CP\n",
    "\n",
    "print(f\"It is recommended to restart the Python kernel for the IPython notebook.\")"
   ]
  },
  {
   "cell_type": "code",
   "execution_count": null,
   "metadata": {},
   "outputs": [],
   "source": [
    "# Download example data from GitHub using curl\n",
    "! curl -OJL https://github.com/tawssie/ZMPY3D/raw/main/1WAC_A.txt\n",
    "! curl -OJL https://github.com/tawssie/ZMPY3D/raw/main/2JL9_A.txt\n"
   ]
  },
  {
   "cell_type": "code",
   "execution_count": null,
   "metadata": {},
   "outputs": [],
   "source": [
    "import ZMPY3D_CP as z\n",
    "import cupy as cp\n",
    "import numpy as np\n",
    "import pickle\n",
    "\n",
    "MaxOrder = 20\n",
    "GridWidth= 1.00\n",
    "Param=z.get_global_parameter()\n",
    "\n",
    "# Find the cache_data directory based on the site package location of ZMPY3D.\n",
    "BinomialCacheFilePath=z.__file__.replace('__init__.py', 'cache_data') + '/BinomialCache.pkl'\n",
    "with open(BinomialCacheFilePath, 'rb') as file:\n",
    "    BinomialCachePKL = pickle.load(file)\n",
    "\n",
    "LogCacheFilePath=z.__file__.replace('__init__.py', 'cache_data') + '/LogG_CLMCache_MaxOrder{:02d}.pkl'.format(MaxOrder)\n",
    "\n",
    "with open(LogCacheFilePath, 'rb') as file:\n",
    "    CachePKL = pickle.load(file)\n",
    "\n",
    "BinomialCache= cp.array(BinomialCachePKL['BinomialCache'],dtype=cp.float64) # 3D matrix\n",
    "\n",
    "GCache_pqr_linear= cp.array(CachePKL['GCache_pqr_linear'], dtype=cp.int32)\n",
    "GCache_complex= cp.array(CachePKL['GCache_complex'],dtype=cp.complex128)\n",
    "GCache_complex_index= cp.array(CachePKL['GCache_complex_index'], dtype=cp.int32)\n",
    "CLMCache3D= cp.array(CachePKL['CLMCache3D'],dtype=cp.complex128)\n",
    "CLMCache= cp.array(CachePKL['CLMCache'], dtype=cp.float64)\n",
    "\n",
    "RotationIndex=CachePKL['RotationIndex']\n",
    "\n",
    "s_id=cp.array(np.squeeze(RotationIndex['s_id'][0,0])-1, dtype=cp.int32)\n",
    "n   =cp.array(np.squeeze(RotationIndex['n'] [0,0]), dtype=cp.int32)\n",
    "l   =cp.array(np.squeeze(RotationIndex['l'] [0,0]), dtype=cp.int32)\n",
    "m   =cp.array(np.squeeze(RotationIndex['m'] [0,0]), dtype=cp.int32)\n",
    "mu  =cp.array(np.squeeze(RotationIndex['mu'][0,0]), dtype=cp.int32)\n",
    "k   =cp.array(np.squeeze(RotationIndex['k'] [0,0]), dtype=cp.int32)\n",
    "IsNLM_Value=cp.array(np.squeeze(RotationIndex['IsNLM_Value'][0,0])-1, dtype=cp.int32)\n",
    "\n",
    "print(f\"Now using the MaxOrder of {MaxOrder} and the GridWidth of {GridWidth}.\")\n",
    "print(f\"Pre-calculated parameters have been loaded successfully.\")\n"
   ]
  },
  {
   "cell_type": "code",
   "execution_count": null,
   "metadata": {},
   "outputs": [],
   "source": [
    "%%time\n",
    "\n",
    "PDBFileName='./1WAC_A.txt'\n",
    "\n",
    "# Convert structure data into coordinates\n",
    "[XYZ,AA_NameList]=z.get_pdb_xyz_ca(PDBFileName)\n",
    "# Convert coordinates into voxels using precalculated Gaussian densities\n",
    "ResidueBox=z.get_residue_gaussian_density_cache(Param)\n",
    "[Voxel3D,Corner]=z.fill_voxel_by_weight_density(XYZ,AA_NameList,Param['residue_weight_map'],GridWidth,ResidueBox[GridWidth])\n",
    "\n",
    "# Convert the voxel data into a CuPy object\n",
    "Voxel3D=cp.array(Voxel3D,dtype=cp.float64)\n",
    "\n",
    "print(f\"Converting PDB to 3D voxel grid with NumPy on CPU, then transferring to GPU memory as CuPy objects.\")\n"
   ]
  },
  {
   "cell_type": "code",
   "execution_count": null,
   "metadata": {},
   "outputs": [],
   "source": [
    "%%time\n",
    "\n",
    "Dimension_BBox_scaled=cp.shape(Voxel3D)\n",
    "Dimension_BBox_scaled=cp.array(Dimension_BBox_scaled,dtype=cp.int32)\n",
    "\n",
    "MaxOrder=cp.array(MaxOrder,dtype=cp.int64)\n",
    "\n",
    "X_sample = cp.arange(Dimension_BBox_scaled[0] + 1, dtype=cp.float64)\n",
    "Y_sample = cp.arange(Dimension_BBox_scaled[1] + 1, dtype=cp.float64)\n",
    "Z_sample = cp.arange(Dimension_BBox_scaled[2] + 1, dtype=cp.float64)\n",
    "\n",
    "# Calculate the volume mass and the center of mass\n",
    "[VolumeMass,Center,_]=z.calculate_bbox_moment(Voxel3D,1,X_sample,Y_sample,Z_sample)\n",
    "\n",
    "# Calculate the weights for sphere sampling\n",
    "[AverageVoxelDist2Center,MaxVoxelDist2Center]=z.calculate_molecular_radius(Voxel3D,Center,VolumeMass,cp.array(Param['default_radius_multiplier'], dtype=cp.float64))\n",
    "\n",
    "# Apply weights to the geometric moments\n",
    "Sphere_X_sample, Sphere_Y_sample, Sphere_Z_sample=z.get_bbox_moment_xyz_sample(Center,AverageVoxelDist2Center,Dimension_BBox_scaled)\n",
    "\n",
    "_,_,SphereBBoxMoment=z.calculate_bbox_moment(Voxel3D\n",
    "                                  ,MaxOrder\n",
    "                                  ,Sphere_X_sample\n",
    "                                  ,Sphere_Y_sample\n",
    "                                  ,Sphere_Z_sample)\n",
    "\n",
    "# Convert to scaled 3D Zernike moments\n",
    "ZMoment_scaled,ZMoment_raw=z.calculate_bbox_moment_2_zm(MaxOrder\n",
    "                                   , GCache_complex\n",
    "                                   , GCache_pqr_linear\n",
    "                                   , GCache_complex_index\n",
    "                                   , CLMCache3D\n",
    "                                   , SphereBBoxMoment)\n",
    "\n",
    "ZMList=[]\n",
    "\n",
    "# Convert the scaled 3D Zernike moments into 3DZD-based descriptors\n",
    "ZM_3DZD_invariant=z.get_3dzd_121_descriptor(ZMoment_scaled)\n",
    "\n",
    "ZMList.append(ZM_3DZD_invariant)\n",
    "\n",
    "# Calculate alternative 3D Zernike moments for specific normalisation orders 2, 3, 4, and 5\n",
    "MaxTargetOrder2NormRotate=5\n",
    "for TargetOrder2NormRotate in range(2, MaxTargetOrder2NormRotate+1):\n",
    "    ABList = z.calculate_ab_rotation(ZMoment_raw.get(), TargetOrder2NormRotate)  \n",
    "    ABList = cp.array(ABList)\n",
    "    ZM = z.calculate_zm_by_ab_rotation(ZMoment_raw, BinomialCache, ABList, MaxOrder, CLMCache,s_id,n,l,m,mu,k,IsNLM_Value)\n",
    "    ZM_mean, _ = z.get_mean_invariant(ZM)\n",
    "    ZMList.append(ZM_mean)\n",
    "\n",
    "# MomentInvariant is a vector that describes shape information\n",
    "MomentInvariant = cp.concatenate([z[~cp.isnan(z)] for z in ZMList])\n",
    "\n",
    "TotalResidueWeight=z.get_total_residue_weight(AA_NameList,Param['residue_weight_map'])\n",
    "[Prctile_list,STD_XYZ_dist2center,S,K]=z.get_ca_distance_info(cp.asarray(XYZ))\n",
    "\n",
    "# GeoDescriptor contains geometric information derived from coordinates\n",
    "GeoDescriptor = cp.vstack((AverageVoxelDist2Center, TotalResidueWeight, Prctile_list, STD_XYZ_dist2center, S, K))\n",
    "\n",
    "\n",
    "print(f\"Transforming the gridded voxel into 3D Zernike moments with global normalization, 3DZD style, yields 121 descriptors.\")\n",
    "print(f\"Additional normalization is also calculated at targets 2, 3, 4, and 5, for Zernike moment descriptor.\")\n",
    "print(f\"Geometric information is calculated and collected as a geometric descriptor based on the coordinates.\")\n",
    "print(f\"The dimensions of the voxel being used are {Voxel3D.shape}.\")\n",
    "print(f\"Time elapsed is as follows:\")\n"
   ]
  },
  {
   "cell_type": "code",
   "execution_count": null,
   "metadata": {
    "colab": {
     "base_uri": "https://localhost:8080/"
    },
    "executionInfo": {
     "elapsed": 26905,
     "status": "ok",
     "timestamp": 1711572606231,
     "user": {
      "displayName": "Sean Lai",
      "userId": "14374858823610391148"
     },
     "user_tz": 420
    },
    "id": "Fl7FrGrptnLd",
    "outputId": "344edd85-0107-4785-de89-c640fa06184b",
    "scrolled": true
   },
   "outputs": [],
   "source": [
    "def OneTimeConversion_CP(XYZ,AA_NameList,Voxel3D,MaxOrder):\n",
    "    Dimension_BBox_scaled=cp.shape(Voxel3D)\n",
    "    Dimension_BBox_scaled=cp.array(Dimension_BBox_scaled,dtype=cp.int32)\n",
    "    \n",
    "    MaxOrder=cp.array(MaxOrder,dtype=cp.int64)\n",
    "    \n",
    "    X_sample = cp.arange(Dimension_BBox_scaled[0] + 1, dtype=cp.float64)\n",
    "    Y_sample = cp.arange(Dimension_BBox_scaled[1] + 1, dtype=cp.float64)\n",
    "    Z_sample = cp.arange(Dimension_BBox_scaled[2] + 1, dtype=cp.float64)\n",
    "    \n",
    "    [VolumeMass,Center,_]=z.calculate_bbox_moment(Voxel3D,1,X_sample,Y_sample,Z_sample)\n",
    "    \n",
    "    [AverageVoxelDist2Center,MaxVoxelDist2Center]=z.calculate_molecular_radius(Voxel3D,Center,VolumeMass,cp.array(Param['default_radius_multiplier'], dtype=cp.float64))\n",
    "    \n",
    "    Sphere_X_sample, Sphere_Y_sample, Sphere_Z_sample=z.get_bbox_moment_xyz_sample(Center,AverageVoxelDist2Center,Dimension_BBox_scaled)\n",
    "    \n",
    "    _,_,SphereBBoxMoment=z.calculate_bbox_moment(Voxel3D\n",
    "                                      ,MaxOrder\n",
    "                                      ,Sphere_X_sample\n",
    "                                      ,Sphere_Y_sample\n",
    "                                      ,Sphere_Z_sample)\n",
    "    \n",
    "    ZMoment_scaled,ZMoment_raw=z.calculate_bbox_moment_2_zm(MaxOrder\n",
    "                                       , GCache_complex\n",
    "                                       , GCache_pqr_linear\n",
    "                                       , GCache_complex_index\n",
    "                                       , CLMCache3D\n",
    "                                       , SphereBBoxMoment)\n",
    "    \n",
    "    ZMList=[]\n",
    "\n",
    "    ZM_3DZD_invariant=z.get_3dzd_121_descriptor(ZMoment_scaled)\n",
    "    \n",
    "    ZMList.append(ZM_3DZD_invariant)\n",
    "    \n",
    "    MaxTargetOrder2NormRotate=5\n",
    "    for TargetOrder2NormRotate in range(2, MaxTargetOrder2NormRotate+1):\n",
    "        ABList = z.calculate_ab_rotation(ZMoment_raw.get(), TargetOrder2NormRotate)  \n",
    "        ABList = cp.array(ABList)\n",
    "        ZM = z.calculate_zm_by_ab_rotation(ZMoment_raw, BinomialCache, ABList, MaxOrder, CLMCache,s_id,n,l,m,mu,k,IsNLM_Value)\n",
    "        ZM_mean, _ = z.get_mean_invariant(ZM)\n",
    "        ZMList.append(ZM_mean)\n",
    "\n",
    "    MomentInvariant = cp.concatenate([z[~cp.isnan(z)] for z in ZMList])\n",
    "    \n",
    "    TotalResidueWeight=z.get_total_residue_weight(AA_NameList,Param['residue_weight_map'])\n",
    "    [Prctile_list,STD_XYZ_dist2center,S,K]=z.get_ca_distance_info(cp.asarray(XYZ))\n",
    "    \n",
    "    GeoDescriptor = cp.vstack((AverageVoxelDist2Center, TotalResidueWeight, Prctile_list, STD_XYZ_dist2center, S, K))\n",
    "    return MomentInvariant, GeoDescriptor\n",
    "\n",
    "\n",
    "print(f\"Merge all steps into a single callable CuPy function, OneTimeConversion_CP.\")\n"
   ]
  },
  {
   "cell_type": "code",
   "execution_count": null,
   "metadata": {
    "colab": {
     "base_uri": "https://localhost:8080/"
    },
    "executionInfo": {
     "elapsed": 26905,
     "status": "ok",
     "timestamp": 1711572606231,
     "user": {
      "displayName": "Sean Lai",
      "userId": "14374858823610391148"
     },
     "user_tz": 420
    },
    "id": "Fl7FrGrptnLd",
    "outputId": "344edd85-0107-4785-de89-c640fa06184b",
    "scrolled": true
   },
   "outputs": [],
   "source": [
    "%%time\n",
    "\n",
    "ResidueBox=z.get_residue_gaussian_density_cache(Param)\n",
    "\n",
    "# These weights and indexes are predefined in the paper available at https://doi.org/10.1371/journal.pcbi.1007970.\n",
    "P=z.get_descriptor_property()\n",
    "ZMIndex  = cp.vstack([P['ZMIndex0'], P['ZMIndex1'], P['ZMIndex2'], P['ZMIndex3'], P['ZMIndex4']])\n",
    "ZMWeight = cp.vstack([P['ZMWeight0'], P['ZMWeight1'], P['ZMWeight2'], P['ZMWeight3'], P['ZMWeight4']])\n",
    "\n",
    "# Transforming coordinates into voxels\n",
    "PDBFileName_A='./1WAC_A.txt'\n",
    "[XYZ_A,AA_NameList_A]=z.get_pdb_xyz_ca(PDBFileName_A)\n",
    "[Voxel3D_A,Corner_A]=z.fill_voxel_by_weight_density(XYZ_A,AA_NameList_A,Param['residue_weight_map'],GridWidth,ResidueBox[GridWidth])\n",
    "Voxel3D_A=cp.array(Voxel3D_A,dtype=cp.float64)\n",
    "\n",
    "PDBFileName_B='./2JL9_A.txt'\n",
    "[XYZ_B,AA_NameList_B]=z.get_pdb_xyz_ca(PDBFileName_B)\n",
    "[Voxel3D_B,Corner_B]=z.fill_voxel_by_weight_density(XYZ_B,AA_NameList_B,Param['residue_weight_map'],GridWidth,ResidueBox[GridWidth])\n",
    "Voxel3D_B=cp.array(Voxel3D_B,dtype=cp.float64)\n",
    "\n",
    "# Retrieve descriptors\n",
    "MomentInvariantRawA, GeoDescriptorA=OneTimeConversion_CP(XYZ_A,AA_NameList_A,Voxel3D_A,20)\n",
    "MomentInvariantRawB, GeoDescriptorB=OneTimeConversion_CP(XYZ_B,AA_NameList_B,Voxel3D_B,20)\n",
    "\n",
    "\n",
    "# Computing scores using normalized Zernike moments with specified weights and indices\n",
    "ZMScore = cp.sum(cp.abs(MomentInvariantRawA[ZMIndex] - MomentInvariantRawB[ZMIndex]) * ZMWeight)\n",
    "\n",
    "# Computing scores from coordinates using specified weights and indices\n",
    "GeoScore = cp.sum( cp.asarray(P['GeoWeight']) * (2 * cp.abs(GeoDescriptorA - GeoDescriptorB) / (1 + cp.abs(GeoDescriptorA) + cp.abs(GeoDescriptorB))))\n",
    "\n",
    "\n",
    "# Rescale scores, where the score is a metric relative to a predefined threshold, not a statistic\n",
    "GeoScoreScaled = (6.6 - GeoScore) / 6.6 * 100.0\n",
    "ZMScoreScaled = (9.0 - ZMScore) / 9.0 * 100.0\n",
    "\n",
    "\n",
    "print(f\"Converting two PDB files 1WAC_A.txt and 2JL9_A.txt to gridded voxels, transferring to GPU memory as CuPy objects.\")\n",
    "print(f\"Calculate all descriptors for two structures at GridWidth {GridWidth}, deriving the similarity scores.\")\n",
    "\n",
    "print(f'GeoScore {GeoScoreScaled:.2f} TotalZMScore {ZMScoreScaled:.2f}')\n",
    "print(f\"Time elapsed is as follows:\")"
   ]
  },
  {
   "cell_type": "code",
   "execution_count": null,
   "metadata": {
    "colab": {
     "base_uri": "https://localhost:8080/"
    },
    "executionInfo": {
     "elapsed": 26905,
     "status": "ok",
     "timestamp": 1711572606231,
     "user": {
      "displayName": "Sean Lai",
      "userId": "14374858823610391148"
     },
     "user_tz": 420
    },
    "id": "Fl7FrGrptnLd",
    "outputId": "344edd85-0107-4785-de89-c640fa06184b",
    "scrolled": true
   },
   "outputs": [],
   "source": [
    "# Alternatively, use a system call to compute results via CLI\n",
    "# ./ZMPY3D_CP_CLI_ShapeScore PDB_A PDB_B GridWidth\n",
    "! ZMPY3D_CP_CLI_ShapeScore \"./1WAC_A.txt\" \"./2JL9_A.txt\" 1.0"
   ]
  }
 ],
 "metadata": {
  "accelerator": "GPU",
  "colab": {
   "authorship_tag": "ABX9TyMENoVGMAAZ51Qh0Uw6LnV6",
   "collapsed_sections": [
    "3Hn12aJzpKR_",
    "DyMa0OG-pe8T",
    "9DbKZZY_pxLk",
    "QZKvszjqp58S",
    "Qp5hA6bBqHqO",
    "UFVne5plq0jK",
    "fVasOaTdrEy2"
   ],
   "gpuType": "T4",
   "provenance": [
    {
     "file_id": "1KRMJipBkbYroHJ6SeXHaPaX5-4WBBy6Z",
     "timestamp": 1711574522738
    },
    {
     "file_id": "1Gy7cTTaL2NPdz7T6Tk4jZDSVM5TwT_Bf",
     "timestamp": 1711323812481
    }
   ]
  },
  "kernelspec": {
   "display_name": "ZMPY3D_JAX",
   "language": "python",
   "name": "python3"
  },
  "language_info": {
   "codemirror_mode": {
    "name": "ipython",
    "version": 3
   },
   "file_extension": ".py",
   "mimetype": "text/x-python",
   "name": "python",
   "nbconvert_exporter": "python",
   "pygments_lexer": "ipython3",
   "version": "3.13.1"
  }
 },
 "nbformat": 4,
 "nbformat_minor": 4
}
